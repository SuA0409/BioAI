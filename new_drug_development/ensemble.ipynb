{
 "cells": [
  {
   "cell_type": "code",
   "execution_count": 2,
   "id": "a3bc5cb5",
   "metadata": {},
   "outputs": [],
   "source": [
    "import numpy as np\n",
    "import pandas as pd\n",
    "import json"
   ]
  },
  {
   "cell_type": "code",
   "execution_count": 3,
   "id": "ac03bbf5",
   "metadata": {},
   "outputs": [],
   "source": [
    "# CV 점수 불러오기\n",
    "with open('C:/Users/user/Desktop/dacon_drug_development/lgb_cv_score.json', 'r') as f:\n",
    "    lgb_score = json.load(f)['mean_score']\n",
    "\n",
    "with open('C:/Users/user/Desktop/dacon_drug_development/mlp_cv_score.json', 'r') as f:\n",
    "    mlp_score = json.load(f)['mean_score']"
   ]
  },
  {
   "cell_type": "code",
   "execution_count": 4,
   "id": "fb52a426",
   "metadata": {},
   "outputs": [
    {
     "name": "stdout",
     "output_type": "stream",
     "text": [
      "Calculated weights -> LGB: 0.737, MLP: 0.263\n"
     ]
    }
   ],
   "source": [
    "# inverse score 기반 가중치 계산\n",
    "w_lgb = 1 / lgb_score\n",
    "w_mlp = 1 / mlp_score\n",
    "\n",
    "w_sum = w_lgb + w_mlp\n",
    "w_lgb /= w_sum\n",
    "w_mlp /= w_sum\n",
    "\n",
    "print(f\"Calculated weights -> LGB: {w_lgb:.3f}, MLP: {w_mlp:.3f}\")"
   ]
  },
  {
   "cell_type": "code",
   "execution_count": 5,
   "id": "c637453f",
   "metadata": {},
   "outputs": [],
   "source": [
    "# 테스트 예측 불러오기\n",
    "mlp_preds = np.load('C:/Users/user/Desktop/dacon_drug_development/mlp_test_preds.npy')\n",
    "lgb_preds = np.load('C:/Users/user/Desktop/dacon_drug_development/lgb_test_preds.npy')"
   ]
  },
  {
   "cell_type": "code",
   "execution_count": 6,
   "id": "521053fd",
   "metadata": {},
   "outputs": [],
   "source": [
    "# 앙상블\n",
    "final_preds = w_mlp * mlp_preds + w_lgb * lgb_preds"
   ]
  },
  {
   "cell_type": "code",
   "execution_count": 7,
   "id": "63cdd314",
   "metadata": {},
   "outputs": [
    {
     "data": {
      "text/plain": [
       "array([2.40099018, 2.71960403, 2.71960403, 3.76985589, 2.11031067,\n",
       "       2.14313502, 2.09417382, 2.20503618, 3.98108792, 2.16197119,\n",
       "       2.3975887 , 2.13620077, 2.59188692, 2.16455965, 2.10966896,\n",
       "       2.120218  , 2.36141495, 6.06170848, 4.33923401, 2.4277157 ,\n",
       "       2.71866924, 2.26861201, 2.11491053, 2.13836074, 2.54818715,\n",
       "       2.12944823, 2.33862573, 2.29741995, 2.19724018, 2.10437062,\n",
       "       2.11127466, 2.36700972, 3.22500664, 2.64258442, 2.1188778 ,\n",
       "       2.16186763, 2.17733234, 3.53554429, 4.58219972, 2.52624169,\n",
       "       2.120336  , 2.41608519, 3.04754561, 2.53302529, 2.43503313,\n",
       "       2.0935399 , 7.34509636, 2.15860658, 3.35692963, 2.23152299,\n",
       "       2.2426838 , 2.11320651, 2.1659349 , 2.10595477, 2.13127181,\n",
       "       2.2354128 , 2.2815351 , 2.19988827, 4.72427594, 2.87625783,\n",
       "       2.29252917, 2.48251713, 2.19438035, 2.12217069, 2.1071572 ,\n",
       "       2.1049202 , 2.10853163, 2.09700862, 2.49555841, 2.39686027,\n",
       "       2.17019169, 2.16275141, 2.12810602, 2.18794758, 2.12119236,\n",
       "       2.27492346, 2.25186216, 2.14774177, 2.19087938, 2.17883576,\n",
       "       2.15051896, 2.16183915, 2.12206944, 2.1812328 , 2.09789891,\n",
       "       3.31674389, 2.63633523, 2.15772496, 2.28313365, 2.25156933,\n",
       "       2.30230548, 2.53021374, 2.32108611, 2.1594645 , 2.11612051,\n",
       "       2.34006407, 2.27059389, 2.15038069, 2.11098709, 2.27967419,\n",
       "       2.11496491, 2.15968106, 2.15248089, 2.33129273, 7.02291144,\n",
       "       4.58769944, 2.99121253, 2.19852612, 2.18334087, 2.13501116,\n",
       "       2.38119885, 3.81493303, 2.28419539, 4.9941579 , 2.58397264,\n",
       "       2.24651136, 2.63912771, 2.3690414 , 2.26065591, 2.45997997,\n",
       "       4.93599794, 2.78013604, 2.65552354, 2.18737921, 2.12609645,\n",
       "       2.49155828, 2.36131217])"
      ]
     },
     "execution_count": 7,
     "metadata": {},
     "output_type": "execute_result"
    }
   ],
   "source": [
    "final_preds"
   ]
  },
  {
   "cell_type": "code",
   "execution_count": 8,
   "id": "44bb5c55",
   "metadata": {},
   "outputs": [],
   "source": [
    "# submission\n",
    "submission = pd.read_csv('C:/Users/user/Desktop/dacon_drug_development/sample_submission.csv')"
   ]
  },
  {
   "cell_type": "code",
   "execution_count": 9,
   "id": "25847a4a",
   "metadata": {},
   "outputs": [
    {
     "data": {
      "text/html": [
       "<div>\n",
       "<style scoped>\n",
       "    .dataframe tbody tr th:only-of-type {\n",
       "        vertical-align: middle;\n",
       "    }\n",
       "\n",
       "    .dataframe tbody tr th {\n",
       "        vertical-align: top;\n",
       "    }\n",
       "\n",
       "    .dataframe thead th {\n",
       "        text-align: right;\n",
       "    }\n",
       "</style>\n",
       "<table border=\"1\" class=\"dataframe\">\n",
       "  <thead>\n",
       "    <tr style=\"text-align: right;\">\n",
       "      <th></th>\n",
       "      <th>ID</th>\n",
       "      <th>ASK1_IC50_nM</th>\n",
       "    </tr>\n",
       "  </thead>\n",
       "  <tbody>\n",
       "    <tr>\n",
       "      <th>0</th>\n",
       "      <td>TEST_000</td>\n",
       "      <td>2.400990</td>\n",
       "    </tr>\n",
       "    <tr>\n",
       "      <th>1</th>\n",
       "      <td>TEST_001</td>\n",
       "      <td>2.719604</td>\n",
       "    </tr>\n",
       "    <tr>\n",
       "      <th>2</th>\n",
       "      <td>TEST_002</td>\n",
       "      <td>2.719604</td>\n",
       "    </tr>\n",
       "    <tr>\n",
       "      <th>3</th>\n",
       "      <td>TEST_003</td>\n",
       "      <td>3.769856</td>\n",
       "    </tr>\n",
       "    <tr>\n",
       "      <th>4</th>\n",
       "      <td>TEST_004</td>\n",
       "      <td>2.110311</td>\n",
       "    </tr>\n",
       "    <tr>\n",
       "      <th>...</th>\n",
       "      <td>...</td>\n",
       "      <td>...</td>\n",
       "    </tr>\n",
       "    <tr>\n",
       "      <th>122</th>\n",
       "      <td>TEST_122</td>\n",
       "      <td>2.655524</td>\n",
       "    </tr>\n",
       "    <tr>\n",
       "      <th>123</th>\n",
       "      <td>TEST_123</td>\n",
       "      <td>2.187379</td>\n",
       "    </tr>\n",
       "    <tr>\n",
       "      <th>124</th>\n",
       "      <td>TEST_124</td>\n",
       "      <td>2.126096</td>\n",
       "    </tr>\n",
       "    <tr>\n",
       "      <th>125</th>\n",
       "      <td>TEST_125</td>\n",
       "      <td>2.491558</td>\n",
       "    </tr>\n",
       "    <tr>\n",
       "      <th>126</th>\n",
       "      <td>TEST_126</td>\n",
       "      <td>2.361312</td>\n",
       "    </tr>\n",
       "  </tbody>\n",
       "</table>\n",
       "<p>127 rows × 2 columns</p>\n",
       "</div>"
      ],
      "text/plain": [
       "           ID  ASK1_IC50_nM\n",
       "0    TEST_000      2.400990\n",
       "1    TEST_001      2.719604\n",
       "2    TEST_002      2.719604\n",
       "3    TEST_003      3.769856\n",
       "4    TEST_004      2.110311\n",
       "..        ...           ...\n",
       "122  TEST_122      2.655524\n",
       "123  TEST_123      2.187379\n",
       "124  TEST_124      2.126096\n",
       "125  TEST_125      2.491558\n",
       "126  TEST_126      2.361312\n",
       "\n",
       "[127 rows x 2 columns]"
      ]
     },
     "execution_count": 9,
     "metadata": {},
     "output_type": "execute_result"
    }
   ],
   "source": [
    "submission['ASK1_IC50_nM'] = final_preds\n",
    "submission"
   ]
  },
  {
   "cell_type": "code",
   "execution_count": 10,
   "id": "5e229894",
   "metadata": {},
   "outputs": [],
   "source": [
    "submission.to_csv('C:/Users/user/Desktop/dacon_drug_development/ensemble_2_MLP_LGBM.csv', index=False)"
   ]
  }
 ],
 "metadata": {
  "kernelspec": {
   "display_name": "Python 3",
   "language": "python",
   "name": "python3"
  },
  "language_info": {
   "codemirror_mode": {
    "name": "ipython",
    "version": 3
   },
   "file_extension": ".py",
   "mimetype": "text/x-python",
   "name": "python",
   "nbconvert_exporter": "python",
   "pygments_lexer": "ipython3",
   "version": "3.13.5"
  }
 },
 "nbformat": 4,
 "nbformat_minor": 5
}
